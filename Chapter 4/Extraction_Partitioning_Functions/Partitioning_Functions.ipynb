{
 "cells": [
  {
   "cell_type": "code",
   "execution_count": 1,
   "id": "ee7bab31",
   "metadata": {},
   "outputs": [],
   "source": [
    "import numpy as np\n",
    "import matplotlib.pyplot as plt\n",
    "import networkx as nx\n",
    "import pandas as pd\n",
    "import math\n",
    "import operator\n",
    "import collections\n",
    "import ast"
   ]
  },
  {
   "cell_type": "code",
   "execution_count": 2,
   "id": "a6928d36",
   "metadata": {},
   "outputs": [],
   "source": [
    "def regional_ordinal_sequence(block_array,window_length,embedding_delay):\n",
    "    '''\n",
    "    Generate the ordinal partition sequence for ALL regions under consideration\n",
    "    \n",
    "    Inputs:\n",
    "        1) block_array = mxN array for an m-dimensional time series of length of N\n",
    "        2) window_length = desired window length\n",
    "        3) embedding_delay = lag\n",
    "        4) tie_precision = precision with which to rank magnitudes (default = 14 decimal places)\n",
    "    '''\n",
    "    \n",
    "    component_sequence = []\n",
    "    for i in range(len(block_array)):\n",
    "        time_series = list(block_array[i])\n",
    "        window = [time_series[x:x+window_length*embedding_delay:embedding_delay] for x in range(len(time_series))]\n",
    "        ord_seq = []\n",
    "        for j in range(len(window)-window_length+embedding_delay):\n",
    "            pattern = np.argsort(window[j])\n",
    "            ord_seq.append(list(pattern))\n",
    "        #component_sequence.append(ord_seq)\n",
    "        component_sequence.append(np.asarray(ord_seq))\n",
    "        \n",
    "    return component_sequence"
   ]
  },
  {
   "cell_type": "code",
   "execution_count": 3,
   "id": "4a0558e3",
   "metadata": {},
   "outputs": [],
   "source": [
    "def block_ordinal_sequence(region_choice,window_length):\n",
    "    '''\n",
    "    Generate ordinal sequence with NO OVERLAP\n",
    "    Inputs:\n",
    "        1) region_choice = m x N array for an m-dimensional time series, where each time series is of length N\n",
    "        2) window_length = required window length\n",
    "    '''  \n",
    "    region_seq_split = []\n",
    "    for i in range(len(region_choice)):\n",
    "        time_series = region_choice[i]\n",
    "        test = [time_series[window_length*x:window_length*x+window_length] for x in range(len(time_series))]\n",
    "        \n",
    "        test1 = []\n",
    "        for j in range(len(test)):\n",
    "            compare = test[j]\n",
    "            if len(compare) < window_length:\n",
    "                pass\n",
    "            else:\n",
    "                test1.append(compare)\n",
    "        region_seq_split.append(test1)\n",
    "    \n",
    "    ordinal_patterns = []\n",
    "    for i in range(len(region_seq_split)):\n",
    "        thingo = region_seq_split[i]\n",
    "        \n",
    "        pattern_seq = []\n",
    "        for j in range(len(thingo)):\n",
    "            component = thingo[j]\n",
    "            pattern = np.argsort(component)\n",
    "            #pattern_seq.append(str(pattern))\n",
    "            pattern_seq.append(pattern)\n",
    "        ordinal_patterns.append(np.asarray(pattern_seq))\n",
    "    \n",
    "    return ordinal_patterns"
   ]
  },
  {
   "cell_type": "code",
   "execution_count": null,
   "id": "a36b5c07",
   "metadata": {},
   "outputs": [],
   "source": []
  }
 ],
 "metadata": {
  "kernelspec": {
   "display_name": "Python 3 (ipykernel)",
   "language": "python",
   "name": "python3"
  },
  "language_info": {
   "codemirror_mode": {
    "name": "ipython",
    "version": 3
   },
   "file_extension": ".py",
   "mimetype": "text/x-python",
   "name": "python",
   "nbconvert_exporter": "python",
   "pygments_lexer": "ipython3",
   "version": "3.8.13"
  }
 },
 "nbformat": 4,
 "nbformat_minor": 5
}
