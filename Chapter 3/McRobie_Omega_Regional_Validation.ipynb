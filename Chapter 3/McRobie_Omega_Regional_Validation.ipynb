{
 "cells": [
  {
   "cell_type": "code",
   "execution_count": 1,
   "id": "31df4954",
   "metadata": {},
   "outputs": [],
   "source": [
    "import numpy as np\n",
    "import matplotlib.pyplot as plt\n",
    "import networkx as nx\n",
    "import pandas as pd\n",
    "import math\n",
    "import random\n",
    "from tqdm import tqdm\n",
    "import pyinform as pi\n",
    "import networkx as nx\n",
    "from mpl_toolkits.basemap import Basemap\n",
    "import scipy.spatial as ss\n",
    "#from scipy.special import digamma,gamma\n",
    "from math import log\n",
    "import itertools\n",
    "#from sklearn.metrics import mutual_info_score"
   ]
  },
  {
   "cell_type": "code",
   "execution_count": 106,
   "id": "0a6b6839",
   "metadata": {},
   "outputs": [],
   "source": [
    "both = pd.read_csv('C:/Users/Owner/Documents/Thesis/Code/Data_Extraction/McRobie_Data_Extraction/Seasonal_Data_Extraction/land_ocean_djf_jja_0_mean_omega.csv')\n",
    "both_detrended = pd.read_csv('C:/Users/Owner/Documents/Thesis/Code/Data_Extraction/McRobie_Data_Extraction/Seasonal_Data_Extraction/land_ocean_djf_jja_0_mean_omega_detrended.csv')"
   ]
  },
  {
   "cell_type": "code",
   "execution_count": 4,
   "id": "ad168ea5",
   "metadata": {},
   "outputs": [],
   "source": [
    "nw_aus = both['NW_Aus_Mean_Vorticity'].tolist()\n",
    "ne_aus = both['NE_Aus_Mean_Vorticity'].tolist()\n",
    "mc = both['MC_Mean_Vorticity'].tolist()\n",
    "io = both['IO_Mean_Vorticity'].tolist()\n",
    "eep = both['EEP_Mean_Vorticity'].tolist()\n",
    "ism = both['ISM_Aus_Mean_Vorticity'].tolist()\n",
    "easm = both['EASM_Mean_Vorticity'].tolist()\n",
    "\n",
    "regions_3 = np.asarray([nw_aus,ne_aus,mc,io,eep,ism,easm])"
   ]
  },
  {
   "cell_type": "code",
   "execution_count": 109,
   "id": "722a2671",
   "metadata": {},
   "outputs": [],
   "source": [
    "nw_aus_detrended = both_detrended['NW_Aus_Mean_Vorticity'].tolist()\n",
    "ne_aus_detrended = both_detrended['NE_Aus_Mean_Vorticity'].tolist()\n",
    "mc_detrended = both_detrended['MC_Mean_Vorticity'].tolist()\n",
    "io_detrended = both_detrended['IO_Mean_Vorticity'].tolist()\n",
    "eep_detrended = both_detrended['EEP_Mean_Vorticity'].tolist()\n",
    "ism_detrended = both_detrended['ISM_Aus_Mean_Vorticity'].tolist()\n",
    "easm_detrended = both_detrended['EASM_Mean_Vorticity'].tolist()\n",
    "\n",
    "regions_3_detrended = np.asarray([nw_aus_detrended,\n",
    "                                  ne_aus_detrended,\n",
    "                                  mc_detrended,\n",
    "                                  io_detrended,\n",
    "                                  eep_detrended,\n",
    "                                  ism_detrended,\n",
    "                                  easm_detrended])"
   ]
  },
  {
   "cell_type": "markdown",
   "id": "481ec9b5",
   "metadata": {},
   "source": [
    "# Define Testing Functions"
   ]
  },
  {
   "cell_type": "code",
   "execution_count": 6,
   "id": "46e31422",
   "metadata": {},
   "outputs": [],
   "source": [
    "def my_mutual_information(x,y,bins): # Function to calculate mutual information between two time series x, y    \n",
    "    p_x = np.histogram(x, bins=bins)[0]/len(x) # Find probability distribution of x\n",
    "    p_xy = np.histogram2d(x,y,bins=bins)[0]/(len(x)+len(y)) # Find joint probability distribution\n",
    "    \n",
    "    sum_x = 0 # Calculate first part of mutual information formula\n",
    "    for i in range(len(p_x)):\n",
    "        if p_x[i] != 0:\n",
    "            sum_x += p_x[i]*np.log10(p_x[i])\n",
    "        else:\n",
    "            pass\n",
    "    \n",
    "    sum_xy = 0 # Calculate second part of mutual information formula\n",
    "    for i in range(len(p_xy)):\n",
    "        for j in range(len(p_xy)):\n",
    "            if p_xy[i][j] != 0:\n",
    "                sum_xy += p_xy[i][j]*np.log10(p_xy[i][j])\n",
    "            else:\n",
    "                pass\n",
    "    \n",
    "    MI = sum_xy - 2*sum_x # Calculate mutual information\n",
    "    \n",
    "    return MI"
   ]
  },
  {
   "cell_type": "code",
   "execution_count": 11,
   "id": "b8501f59",
   "metadata": {},
   "outputs": [],
   "source": [
    "def actual_mi(region_input,bins):\n",
    "    actual_mi = []\n",
    "    region_index = [i for i in range(len(region_input))]\n",
    "    for i,j in itertools.combinations(region_index,2):\n",
    "        mi = my_mutual_information(region_input[i],region_input[j],bins)\n",
    "        actual_mi.append(mi)\n",
    "    return actual_mi"
   ]
  },
  {
   "cell_type": "code",
   "execution_count": 17,
   "id": "c193e689",
   "metadata": {},
   "outputs": [
    {
     "name": "stdout",
     "output_type": "stream",
     "text": [
      "['NW', 'NE'] : 0.6389418079422187\n",
      "['NW', 'MC'] : 0.6341689086832708\n",
      "['NW', 'IO'] : 0.6358895392916332\n",
      "['NW', 'EEP'] : 0.6304040616870107\n",
      "['NW', 'ISM'] : 0.48274298292072026\n",
      "['NW', 'EASM'] : 0.47158380208267436\n",
      "['NE', 'MC'] : 0.5011619015119325\n",
      "['NE', 'IO'] : 0.5089829223909779\n",
      "['NE', 'EEP'] : 0.4960777892750694\n",
      "['NE', 'ISM'] : 0.3774990999874429\n",
      "['NE', 'EASM'] : 0.36621088608247443\n",
      "['MC', 'IO'] : 0.5976564870596023\n",
      "['MC', 'EEP'] : 0.5903063713805186\n",
      "['MC', 'ISM'] : 0.4511769131911276\n",
      "['MC', 'EASM'] : 0.43997759855689933\n",
      "['IO', 'EEP'] : 0.5097802272674039\n",
      "['IO', 'ISM'] : 0.3837589864879891\n",
      "['IO', 'EASM'] : 0.37252982552559843\n",
      "['EEP', 'ISM'] : 0.44228708998408073\n",
      "['EEP', 'EASM'] : 0.4310480280102993\n",
      "['ISM', 'EASM'] : 0.529339729067691\n"
     ]
    }
   ],
   "source": [
    "mi_actual = actual_mi(regions_3,30)\n",
    "for i in range(len(permutation_names)):\n",
    "    print(permutation_names[i],':',mi_actual[i])"
   ]
  },
  {
   "cell_type": "code",
   "execution_count": 18,
   "id": "b30ed9a9",
   "metadata": {},
   "outputs": [],
   "source": [
    "def white_noise_surrogates(original_data):\n",
    "    '''\n",
    "    Return a shuffled copy of a time series array.\n",
    "\n",
    "    Each time series is shuffled individually. The surrogates correspond to\n",
    "    realizations of white noise consistent with the :attr:`original_data`\n",
    "    time series' amplitude distribution.\n",
    "    '''\n",
    "    \n",
    "    shuffle = random.shuffle\n",
    "    surrogate = original_data.copy()\n",
    "    for i in range(surrogate.shape[0]):\n",
    "        shuffle(surrogate[i,:])\n",
    "    return surrogate"
   ]
  },
  {
   "cell_type": "code",
   "execution_count": 19,
   "id": "e3af7c8c",
   "metadata": {},
   "outputs": [],
   "source": [
    "def connections_summary_for_plot(connections_raw):\n",
    "    connections_test = []\n",
    "    edge_from_test = []\n",
    "    edge_to_test = []\n",
    "    for i in range(len(connections_raw)):\n",
    "        if connections_raw[i][1] == 1:\n",
    "            begin = connections_raw[i][0][0]\n",
    "            end = connections_raw[i][0][1]\n",
    "            value = 1\n",
    "            \n",
    "            edge_from_test.append(begin)\n",
    "            edge_to_test.append(end)\n",
    "            connections_test.append(value)\n",
    "        else:\n",
    "            pass\n",
    "    return edge_from_test,edge_to_test\n",
    "\n",
    "def nodes_latlon_dict():\n",
    "    m = Basemap(projection = 'merc',\n",
    "            llcrnrlat=-40,\n",
    "            llcrnrlon=40,\n",
    "            urcrnrlat=40,\n",
    "            urcrnrlon=260,\n",
    "            resolution='l') #requires initialisation of the map\n",
    "    \n",
    "    region_names = ['NW','NE','MC','IO','EEP','ISM','EASM']\n",
    "    region_lat = [-15.000000,-15.000000,-2.500000,-7.500000,5.000000,15.000000,15.000000]\n",
    "    region_lon = [127.500000,145.000000,120.000000,52.500000,240.000000,85.000000,110.000000]\n",
    "    mx,my = m(region_lon,region_lat)\n",
    "    \n",
    "    coords =list(tuple(zip(mx,my)))\n",
    "    pos = dict(zip(region_names,coords))\n",
    "    \n",
    "    return pos\n",
    "\n",
    "def network_map_plot(connections_summary_input):\n",
    "    pos = nodes_latlon_dict()\n",
    "    test_graph = connections_summary_for_plot(connections_summary_input)\n",
    "    \n",
    "    m = Basemap(projection = 'merc',\n",
    "            llcrnrlat=-40,\n",
    "            llcrnrlon=40,\n",
    "            urcrnrlat=40,\n",
    "            urcrnrlon=260,\n",
    "            resolution='l')\n",
    "   \n",
    "    G = nx.Graph()\n",
    "    \n",
    "    for i in range(len(test_graph[0])):\n",
    "        begin = test_graph[0][i]\n",
    "        end = test_graph[1][i]\n",
    "        G.add_edge(begin,end)\n",
    "    \n",
    "    plt.figure(figsize=(12,15))\n",
    "    \n",
    "    nx.draw_networkx(G,pos,node_size=100,node_color='red',with_labels=False,width=1.5)\n",
    "    \n",
    "    m.drawcoastlines(linewidth=0.5)\n",
    "    m.drawparallels(np.arange(-40.,41.,10.),\n",
    "                    labels=[True,True,False,False],\n",
    "                    dashes=[2,2],\n",
    "                    linewidth=0.0)\n",
    "    m.drawmeridians(np.arange(40.,260.,20.),\n",
    "                    labels=[False,False,False,True],\n",
    "                    dashes=[2,2],\n",
    "                    linewidth=0.0)\n",
    "    plt.show();"
   ]
  },
  {
   "cell_type": "code",
   "execution_count": 20,
   "id": "06a379a7",
   "metadata": {},
   "outputs": [],
   "source": [
    "def chopped(region_input,block_length):\n",
    "    chop = []\n",
    "    for i in range(len(region_input)):\n",
    "        time_series = list(region_input[i])\n",
    "        chunked_list = [time_series[i:i+block_length] for i in range(0, len(time_series), block_length)]\n",
    "        for j in range(len(chunked_list)):\n",
    "            act_len = len(chunked_list[j])\n",
    "            if act_len != block_length:\n",
    "                chunked_list.remove(chunked_list[j])\n",
    "            else:\n",
    "                pass\n",
    "        chop.append(chunked_list)\n",
    "    \n",
    "    full_indices = []\n",
    "    for i in range(len(chop)):\n",
    "        component_indices = []\n",
    "        for j in range(len(chunked_list[i])):\n",
    "            component_indices.append(j)\n",
    "        full_indices.append(component_indices)\n",
    "\n",
    "    return np.asarray(full_indices),np.asarray(chop)"
   ]
  },
  {
   "cell_type": "code",
   "execution_count": 26,
   "id": "92f2f206",
   "metadata": {},
   "outputs": [],
   "source": [
    "def chopped_surrogate(region_input,block_length): ## USES ONLY THE WHITE NOISE ALGORITHM\n",
    "    sliced_indices,sliced_values = chopped(region_input,block_length) # Chop up all time series into blocks of length block_length\n",
    "    \n",
    "    orders = []\n",
    "    for i in range(len(sliced_values)):\n",
    "        block = sliced_values[i]\n",
    "        \n",
    "        block_index = []\n",
    "        for j in range(len(block)):\n",
    "            block_index.append(j)\n",
    "        orders.append(block_index)\n",
    "    \n",
    "    shuffled = np.asarray(orders)\n",
    "    surrogates = white_noise_surrogates(shuffled)\n",
    "    \n",
    "    shuffled_all = []\n",
    "    for i in range(len(surrogates)):\n",
    "        orders = surrogates[i]\n",
    "        shuffled_component = []\n",
    "        for j in range(len(orders)):\n",
    "            value = sliced_values[i][orders[j]]\n",
    "            shuffled_component.append(value)\n",
    "        shuffled_all.append(shuffled_component)\n",
    "    \n",
    "    for i in range(len(shuffled_all)):\n",
    "        shuffled_all[i] = np.hstack(shuffled_all[i])\n",
    "        \n",
    "    return shuffled_all"
   ]
  },
  {
   "cell_type": "code",
   "execution_count": 53,
   "id": "e3ec549c",
   "metadata": {},
   "outputs": [],
   "source": [
    "def chopped_surrogate_testing(region_input,n_trials,block_length,mi_bins): # Input original region_input (function applies chopped_surrogate())\n",
    "    print('Using \"white_noise_surrogates\" algorithm.')\n",
    "    n_tests = 21\n",
    "\n",
    "    test_mi_pyinform = np.zeros((n_tests+1,n_trials))\n",
    "    \n",
    "    for i in tqdm(range(n_trials)):\n",
    "        surrogate_input = chopped_surrogate(region_input,block_length)\n",
    "        counter = 0\n",
    "        #print(i)\n",
    "        for a,b in itertools.combinations(regions,2):\n",
    "            mi = my_mutual_information(surrogate_input[a],surrogate_input[b],mi_bins)\n",
    "            counter +=1 \n",
    "            test_mi_pyinform[counter][i] = mi\n",
    "            \n",
    "    test_mi_results = np.delete(test_mi_pyinform,0,0)\n",
    "    \n",
    "    return test_mi_results"
   ]
  },
  {
   "cell_type": "code",
   "execution_count": 55,
   "id": "c905c889",
   "metadata": {},
   "outputs": [],
   "source": [
    "def return_statistical_significance(actual_results,test_results,sig_level): # Actual = actual time series, theory = simulation surrogates\n",
    "    region_compare_percentile = []\n",
    "    for i in range(len(test_results)):\n",
    "        percentile = np.percentile(test_results[i],sig_level)\n",
    "        region_compare_percentile.append(percentile)\n",
    "    \n",
    "    synchronisation = []\n",
    "    for i in range(len(test_results)):\n",
    "        if region_compare_percentile[i] <= actual_results[i]:\n",
    "            synchronisation.append(1)\n",
    "        else:\n",
    "            synchronisation.append(0)\n",
    "    return list(zip(permutation_names,synchronisation))"
   ]
  },
  {
   "cell_type": "code",
   "execution_count": 101,
   "id": "7f8e9c63",
   "metadata": {},
   "outputs": [],
   "source": [
    "region_names = ['NW','NE','MC','IO','EEP','ISM','EASM']\n",
    "regions = [x for x in range(7)]\n",
    "\n",
    "permutation_names = []\n",
    "for i,j in itertools.combinations(regions,2):\n",
    "    names = [region_names[i],region_names[j]]\n",
    "    permutation_names.append(names)"
   ]
  },
  {
   "cell_type": "code",
   "execution_count": 114,
   "id": "6d9c8946",
   "metadata": {
    "scrolled": false
   },
   "outputs": [
    {
     "name": "stdout",
     "output_type": "stream",
     "text": [
      "Using \"white_noise_surrogates\" algorithm.\n"
     ]
    },
    {
     "name": "stderr",
     "output_type": "stream",
     "text": [
      "100%|████████████████████████████████████████████████████████████████████████████| 10000/10000 [03:58<00:00, 41.95it/s]\n"
     ]
    },
    {
     "name": "stdout",
     "output_type": "stream",
     "text": [
      "(['NW', 'NE'], 1)\n",
      "(['NW', 'MC'], 1)\n",
      "(['NW', 'IO'], 0)\n",
      "(['NW', 'EEP'], 0)\n",
      "(['NW', 'ISM'], 1)\n",
      "(['NW', 'EASM'], 1)\n",
      "(['NE', 'MC'], 0)\n",
      "(['NE', 'IO'], 0)\n",
      "(['NE', 'EEP'], 0)\n",
      "(['NE', 'ISM'], 1)\n",
      "(['NE', 'EASM'], 1)\n",
      "(['MC', 'IO'], 0)\n",
      "(['MC', 'EEP'], 0)\n",
      "(['MC', 'ISM'], 1)\n",
      "(['MC', 'EASM'], 1)\n",
      "(['IO', 'EEP'], 0)\n",
      "(['IO', 'ISM'], 1)\n",
      "(['IO', 'EASM'], 1)\n",
      "(['EEP', 'ISM'], 1)\n",
      "(['EEP', 'EASM'], 1)\n",
      "(['ISM', 'EASM'], 1)\n"
     ]
    },
    {
     "data": {
      "image/png": "[encoded data removed]",
      "text/plain": [
       "<Figure size 864x1080 with 1 Axes>"
      ]
     },
     "metadata": {},
     "output_type": "display_data"
    },
    {
     "data": {
      "text/plain": [
       "<Figure size 432x288 with 0 Axes>"
      ]
     },
     "metadata": {},
     "output_type": "display_data"
    }
   ],
   "source": [
    "bins_min = 30\n",
    "bins_max = 40\n",
    "\n",
    "significance = 99\n",
    "n_trials = 10000\n",
    "shuffle_block_length = 12 #Shuffle by monsoon season of 3 months\n",
    "\n",
    "for i in range(bins_min,bins_max+1): \n",
    "    actual_mutual_informations_d = actual_mi(regions_3_detrended,i)\n",
    "    surrogate_mi_d = chopped_surrogate_testing(regions_3_detrended,n_trials,shuffle_block_length,i)\n",
    "    test_results_d = return_statistical_significance(actual_mutual_informations_d,surrogate_mi_d,significance)\n",
    "    for j in range(len(test_results_d)):\n",
    "        print(test_results_d[j])\n",
    "    network_map_plot(test_results_d)\n",
    "    break\n",
    "plt.savefig('mcrobie_modern_results.png')"
   ]
  },
  {
   "cell_type": "code",
   "execution_count": null,
   "id": "e4897149",
   "metadata": {},
   "outputs": [],
   "source": []
  }
 ],
 "metadata": {
  "kernelspec": {
   "display_name": "Python 3 (ipykernel)",
   "language": "python",
   "name": "python3"
  },
  "language_info": {
   "codemirror_mode": {
    "name": "ipython",
    "version": 3
   },
   "file_extension": ".py",
   "mimetype": "text/x-python",
   "name": "python",
   "nbconvert_exporter": "python",
   "pygments_lexer": "ipython3",
   "version": "3.8.13"
  }
 },
 "nbformat": 4,
 "nbformat_minor": 5
}
